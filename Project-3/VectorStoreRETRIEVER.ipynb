{
 "cells": [
  {
   "cell_type": "code",
   "execution_count": 2,
   "id": "7aa7bd39",
   "metadata": {},
   "outputs": [
    {
     "data": {
      "text/plain": [
       "True"
      ]
     },
     "execution_count": 2,
     "metadata": {},
     "output_type": "execute_result"
    }
   ],
   "source": [
    "import os\n",
    "from dotenv import load_dotenv\n",
    "load_dotenv()"
   ]
  },
  {
   "cell_type": "code",
   "execution_count": 3,
   "id": "0c3d9a21",
   "metadata": {},
   "outputs": [
    {
     "name": "stderr",
     "output_type": "stream",
     "text": [
      "d:\\LIFE\\_BOOTCAMP_MANDIRI\\B2_GENAI_LANGCHAIN\\venv\\lib\\site-packages\\tqdm\\auto.py:21: TqdmWarning: IProgress not found. Please update jupyter and ipywidgets. See https://ipywidgets.readthedocs.io/en/stable/user_install.html\n",
      "  from .autonotebook import tqdm as notebook_tqdm\n",
      "None of PyTorch, TensorFlow >= 2.0, or Flax have been found. Models won't be available and only tokenizers, configuration and file/data utilities can be used.\n"
     ]
    }
   ],
   "source": [
    "from langchain_openai import ChatOpenAI\n",
    "from langchain.chains import ConversationChain\n",
    "from langchain.memory import ConversationBufferMemory\n",
    "from langchain.prompts import PromptTemplate\n",
    "\n",
    "if not os.getenv(\"OPENAI_API_KEY\"):\n",
    "    raise ValueError(\"OPENAI_API_KEY tidak ditemukan. Pastikan sudah diatur di file .env.\")\n",
    "\n",
    "llm = ChatOpenAI(\n",
    "    model=\"gpt-5-nano\", \n",
    "    temperature=0.7 # Atur kreativitas model\n",
    ")"
   ]
  },
  {
   "cell_type": "code",
   "execution_count": 4,
   "id": "a131e29f",
   "metadata": {},
   "outputs": [],
   "source": [
    "from langchain_core.documents import Document\n",
    "\n",
    "documents = [\n",
    "    Document(\n",
    "        page_content=\"Dogs are great companions, known for their loyalty and friendliness.\",\n",
    "        metadata={\"source\": \"mammal-pets-doc\"},\n",
    "    ),\n",
    "    Document(\n",
    "        page_content=\"Cats are independent pets that often enjoy their own space.\",\n",
    "        metadata={\"source\": \"mammal-pets-doc\"},\n",
    "    ),\n",
    "    Document(\n",
    "        page_content=\"Goldfish are popular pets for beginners, requiring relatively simple care.\",\n",
    "        metadata={\"source\": \"fish-pets-doc\"},\n",
    "    ),\n",
    "    Document(\n",
    "        page_content=\"Parrots are intelligent birds capable of mimicking human speech.\",\n",
    "        metadata={\"source\": \"bird-pets-doc\"},\n",
    "    ),\n",
    "    Document(\n",
    "        page_content=\"Rabbits are social animals that need plenty of space to hop around.\",\n",
    "        metadata={\"source\": \"mammal-pets-doc\"},\n",
    "    ),\n",
    "]\n"
   ]
  },
  {
   "cell_type": "code",
   "execution_count": 5,
   "id": "8e465751",
   "metadata": {},
   "outputs": [],
   "source": [
    "from langchain_openai import OpenAIEmbeddings\n",
    "\n",
    "embedding_model = OpenAIEmbeddings(\n",
    "    model=\"text-embedding-3-small\"\n",
    ")"
   ]
  },
  {
   "cell_type": "code",
   "execution_count": 6,
   "id": "d11674b5",
   "metadata": {},
   "outputs": [
    {
     "name": "stdout",
     "output_type": "stream",
     "text": [
      "Dimensi Vektor (Panjang List): 1536\n",
      "Contoh Vektor (10 elemen pertama): [-0.037101149559020996, -0.04677020013332367, -0.04082001745700836, 0.021733487024903297, 0.01770836114883423, -0.05013905465602875, -0.06396448612213135, 0.022510074079036713, -0.034891705960035324, -0.027388349175453186]\n"
     ]
    }
   ],
   "source": [
    "teks = 'Hallo nama saya farhan'\n",
    "\n",
    "query_vector=embedding_model.embed_query(teks)\n",
    "\n",
    "print(f\"Dimensi Vektor (Panjang List): {len(query_vector)}\")\n",
    "print(f\"Contoh Vektor (10 elemen pertama): {query_vector[:10]}\")"
   ]
  },
  {
   "cell_type": "code",
   "execution_count": 11,
   "id": "6fcdb9ba",
   "metadata": {},
   "outputs": [
    {
     "data": {
      "text/plain": [
       "<langchain_chroma.vectorstores.Chroma at 0x1b0c4b01810>"
      ]
     },
     "execution_count": 11,
     "metadata": {},
     "output_type": "execute_result"
    }
   ],
   "source": [
    "from langchain_chroma import Chroma\n",
    "\n",
    "vectorstore = Chroma.from_documents(documents, embedding= embedding_model)\n",
    "vectorstore"
   ]
  },
  {
   "cell_type": "code",
   "execution_count": 12,
   "id": "1aabdd85",
   "metadata": {},
   "outputs": [
    {
     "data": {
      "text/plain": [
       "[Document(id='26995114-e8a3-4016-85a2-d0f800230714', metadata={'source': 'mammal-pets-doc'}, page_content='Dogs are great companions, known for their loyalty and friendliness.'),\n",
       " Document(id='e29e571b-f27e-45d9-84d4-f8b70e697bef', metadata={'source': 'mammal-pets-doc'}, page_content='Dogs are great companions, known for their loyalty and friendliness.'),\n",
       " Document(id='a6859816-adc0-4073-a2c8-512a7b0e5a58', metadata={'source': 'mammal-pets-doc'}, page_content='Cats are independent pets that often enjoy their own space.'),\n",
       " Document(id='6af95bc8-c26c-49c0-aa8e-14aaba56d52e', metadata={'source': 'mammal-pets-doc'}, page_content='Cats are independent pets that often enjoy their own space.')]"
      ]
     },
     "execution_count": 12,
     "metadata": {},
     "output_type": "execute_result"
    }
   ],
   "source": [
    "vectorstore.similarity_search(\"dog\")"
   ]
  },
  {
   "cell_type": "code",
   "execution_count": 13,
   "id": "1b90f10e",
   "metadata": {},
   "outputs": [
    {
     "data": {
      "text/plain": [
       "[Document(id='26995114-e8a3-4016-85a2-d0f800230714', metadata={'source': 'mammal-pets-doc'}, page_content='Dogs are great companions, known for their loyalty and friendliness.'),\n",
       " Document(id='e29e571b-f27e-45d9-84d4-f8b70e697bef', metadata={'source': 'mammal-pets-doc'}, page_content='Dogs are great companions, known for their loyalty and friendliness.'),\n",
       " Document(id='a6859816-adc0-4073-a2c8-512a7b0e5a58', metadata={'source': 'mammal-pets-doc'}, page_content='Cats are independent pets that often enjoy their own space.'),\n",
       " Document(id='6af95bc8-c26c-49c0-aa8e-14aaba56d52e', metadata={'source': 'mammal-pets-doc'}, page_content='Cats are independent pets that often enjoy their own space.')]"
      ]
     },
     "execution_count": 13,
     "metadata": {},
     "output_type": "execute_result"
    }
   ],
   "source": [
    "# Async query\n",
    "await vectorstore.asimilarity_search(\"dog\")"
   ]
  },
  {
   "cell_type": "code",
   "execution_count": 16,
   "id": "3463b5b5",
   "metadata": {},
   "outputs": [
    {
     "data": {
      "text/plain": [
       "[(Document(id='a6859816-adc0-4073-a2c8-512a7b0e5a58', metadata={'source': 'mammal-pets-doc'}, page_content='Cats are independent pets that often enjoy their own space.'),\n",
       "  1.2405281066894531),\n",
       " (Document(id='6af95bc8-c26c-49c0-aa8e-14aaba56d52e', metadata={'source': 'mammal-pets-doc'}, page_content='Cats are independent pets that often enjoy their own space.'),\n",
       "  1.2405281066894531),\n",
       " (Document(id='26995114-e8a3-4016-85a2-d0f800230714', metadata={'source': 'mammal-pets-doc'}, page_content='Dogs are great companions, known for their loyalty and friendliness.'),\n",
       "  1.550061821937561),\n",
       " (Document(id='e29e571b-f27e-45d9-84d4-f8b70e697bef', metadata={'source': 'mammal-pets-doc'}, page_content='Dogs are great companions, known for their loyalty and friendliness.'),\n",
       "  1.550061821937561)]"
      ]
     },
     "execution_count": 16,
     "metadata": {},
     "output_type": "execute_result"
    }
   ],
   "source": [
    "vectorstore.similarity_search_with_score(\"cat\")"
   ]
  },
  {
   "cell_type": "code",
   "execution_count": 17,
   "id": "6bfcfc06",
   "metadata": {},
   "outputs": [
    {
     "data": {
      "text/plain": [
       "[[Document(id='6af95bc8-c26c-49c0-aa8e-14aaba56d52e', metadata={'source': 'mammal-pets-doc'}, page_content='Cats are independent pets that often enjoy their own space.')],\n",
       " [Document(id='e29e571b-f27e-45d9-84d4-f8b70e697bef', metadata={'source': 'mammal-pets-doc'}, page_content='Dogs are great companions, known for their loyalty and friendliness.')]]"
      ]
     },
     "execution_count": 17,
     "metadata": {},
     "output_type": "execute_result"
    }
   ],
   "source": [
    "from typing import List\n",
    "\n",
    "from langchain_core.documents import Document\n",
    "from langchain_core.runnables import RunnableLambda\n",
    "\n",
    "retriever = RunnableLambda(vectorstore.similarity_search).bind(k=1)\n",
    "retriever.batch([\"cat\", \"dog\"])\n"
   ]
  },
  {
   "cell_type": "code",
   "execution_count": 19,
   "id": "7ddbf5c8",
   "metadata": {},
   "outputs": [
    {
     "data": {
      "text/plain": [
       "[[Document(id='6af95bc8-c26c-49c0-aa8e-14aaba56d52e', metadata={'source': 'mammal-pets-doc'}, page_content='Cats are independent pets that often enjoy their own space.')],\n",
       " [Document(id='683ac6bb-0a62-43b0-ad13-4684a4d2f77a', metadata={'source': 'bird-pets-doc'}, page_content='Parrots are intelligent birds capable of mimicking human speech.')]]"
      ]
     },
     "execution_count": 19,
     "metadata": {},
     "output_type": "execute_result"
    }
   ],
   "source": [
    "retriever = vectorstore.as_retriever(\n",
    "    search_type=\"similarity\",\n",
    "    search_kwargs={\"k\":1}\n",
    ")\n",
    "\n",
    "retriever.batch([\"cat\", \"Parrot\"])"
   ]
  },
  {
   "cell_type": "code",
   "execution_count": 22,
   "id": "071f36f9",
   "metadata": {},
   "outputs": [
    {
     "data": {
      "text/plain": [
       "AIMessage(content='Anjing adalah teman yang hebat, dikenal karena kesetiaan dan keramahan.', additional_kwargs={'refusal': None}, response_metadata={'token_usage': {'completion_tokens': 410, 'prompt_tokens': 86, 'total_tokens': 496, 'completion_tokens_details': {'accepted_prediction_tokens': 0, 'audio_tokens': 0, 'reasoning_tokens': 384, 'rejected_prediction_tokens': 0}, 'prompt_tokens_details': {'audio_tokens': 0, 'cached_tokens': 0}}, 'model_name': 'gpt-5-nano-2025-08-07', 'system_fingerprint': None, 'id': 'chatcmpl-CVudh1arKlIPWtKSYvJ67PcmswKIF', 'service_tier': 'default', 'finish_reason': 'stop', 'logprobs': None}, id='run--042d5f08-7ee3-497f-b058-10922137edc3-0', usage_metadata={'input_tokens': 86, 'output_tokens': 410, 'total_tokens': 496, 'input_token_details': {'audio': 0, 'cache_read': 0}, 'output_token_details': {'audio': 0, 'reasoning': 384}})"
      ]
     },
     "execution_count": 22,
     "metadata": {},
     "output_type": "execute_result"
    }
   ],
   "source": [
    "from langchain_core.prompts import ChatPromptTemplate\n",
    "from langchain_core.runnables import RunnablePassthrough\n",
    "\n",
    "message= \"\"\"\n",
    "Jawab pertanyaan ini berdasarkan hanya dari context\n",
    "\n",
    "{question}\n",
    "\n",
    "Context: {context}\n",
    "\"\"\"\n",
    "\n",
    "prompt = ChatPromptTemplate.from_messages(\n",
    "    [\n",
    "        \"human\", message\n",
    "    ]\n",
    ")\n",
    "\n",
    "rag_chain = {\"context\":retriever, \"question\": RunnablePassthrough()} | prompt | llm\n",
    "\n",
    "response = rag_chain.invoke(\n",
    "    \"beri tahu aku tentang Dog\"\n",
    ")\n",
    "\n",
    "response"
   ]
  },
  {
   "cell_type": "code",
   "execution_count": 23,
   "id": "95074b34",
   "metadata": {},
   "outputs": [
    {
     "data": {
      "text/plain": [
       "'Anjing adalah teman yang hebat, dikenal karena kesetiaan dan keramahan.'"
      ]
     },
     "execution_count": 23,
     "metadata": {},
     "output_type": "execute_result"
    }
   ],
   "source": [
    "response.content"
   ]
  },
  {
   "cell_type": "code",
   "execution_count": 24,
   "id": "a616e9d3",
   "metadata": {},
   "outputs": [
    {
     "data": {
      "text/plain": [
       "AIMessage(content='Menurut konteks, ikan yang dibahas adalah goldfish. Goldfish adalah hewan peliharaan yang populer untuk pemula dan perawatannya relatif sederhana.', additional_kwargs={'refusal': None}, response_metadata={'token_usage': {'completion_tokens': 425, 'prompt_tokens': 83, 'total_tokens': 508, 'completion_tokens_details': {'accepted_prediction_tokens': 0, 'audio_tokens': 0, 'reasoning_tokens': 384, 'rejected_prediction_tokens': 0}, 'prompt_tokens_details': {'audio_tokens': 0, 'cached_tokens': 0}}, 'model_name': 'gpt-5-nano-2025-08-07', 'system_fingerprint': None, 'id': 'chatcmpl-CVueRxqx7u5gTt6T4b5UIkiPnlPzK', 'service_tier': 'default', 'finish_reason': 'stop', 'logprobs': None}, id='run--c46e175b-7161-4550-96c4-baac8d2dd26e-0', usage_metadata={'input_tokens': 83, 'output_tokens': 425, 'total_tokens': 508, 'input_token_details': {'audio': 0, 'cache_read': 0}, 'output_token_details': {'audio': 0, 'reasoning': 384}})"
      ]
     },
     "execution_count": 24,
     "metadata": {},
     "output_type": "execute_result"
    }
   ],
   "source": [
    "rag_chain.invoke(\"beri tahu aku tentang ikan\")"
   ]
  },
  {
   "cell_type": "code",
   "execution_count": 25,
   "id": "71fc0ce5",
   "metadata": {},
   "outputs": [
    {
     "name": "stdout",
     "output_type": "stream",
     "text": [
      "\n",
      "--- ISI CHROMA (5 DATA PERTAMA) ---\n",
      "\n",
      "[1] Teks Asli:\n",
      "  Dogs are great companions, known for their loyalty and friendliness....\n",
      "Metadata:\n",
      "  {'source': 'mammal-pets-doc'}\n",
      "\n",
      "[2] Teks Asli:\n",
      "  Cats are independent pets that often enjoy their own space....\n",
      "Metadata:\n",
      "  {'source': 'mammal-pets-doc'}\n",
      "\n",
      "[3] Teks Asli:\n",
      "  Goldfish are popular pets for beginners, requiring relatively simple care....\n",
      "Metadata:\n",
      "  {'source': 'fish-pets-doc'}\n",
      "\n",
      "[4] Teks Asli:\n",
      "  Parrots are intelligent birds capable of mimicking human speech....\n",
      "Metadata:\n",
      "  {'source': 'bird-pets-doc'}\n",
      "\n",
      "[5] Teks Asli:\n",
      "  Rabbits are social animals that need plenty of space to hop around....\n",
      "Metadata:\n",
      "  {'source': 'mammal-pets-doc'}\n"
     ]
    }
   ],
   "source": [
    "try:\n",
    "    semua_isi = vectorstore._collection.get(\n",
    "        limit=5, \n",
    "        include=[\"metadatas\", \"documents\"] # Minta Chroma menyertakan metadata dan teks\n",
    "    )\n",
    "\n",
    "    print(\"\\n--- ISI CHROMA (5 DATA PERTAMA) ---\")\n",
    "    \n",
    "    for i, doc in enumerate(semua_isi['documents']):\n",
    "        metadata = semua_isi['metadatas'][i]\n",
    "        \n",
    "        print(f\"\\n[{i+1}] Teks Asli:\")\n",
    "        print(f\"  {doc[:100]}...\") # Tampilkan 100 karakter pertama\n",
    "        \n",
    "        print(f\"Metadata:\")\n",
    "        print(f\"  {metadata}\")\n",
    "\n",
    "except Exception as e:\n",
    "    print(f\"Error saat mengambil data dari Chroma: {e}\")\n",
    "    print(\"Pastikan objek 'db' Anda adalah instance dari Chroma yang sudah terisi.\")"
   ]
  },
  {
   "cell_type": "code",
   "execution_count": null,
   "id": "8a6536c8",
   "metadata": {},
   "outputs": [],
   "source": []
  }
 ],
 "metadata": {
  "kernelspec": {
   "display_name": "venv",
   "language": "python",
   "name": "python3"
  },
  "language_info": {
   "codemirror_mode": {
    "name": "ipython",
    "version": 3
   },
   "file_extension": ".py",
   "mimetype": "text/x-python",
   "name": "python",
   "nbconvert_exporter": "python",
   "pygments_lexer": "ipython3",
   "version": "3.10.0"
  }
 },
 "nbformat": 4,
 "nbformat_minor": 5
}
